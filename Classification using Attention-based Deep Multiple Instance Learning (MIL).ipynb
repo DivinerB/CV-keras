{
 "cells": [
  {
   "cell_type": "markdown",
   "id": "743f0efb-2b87-4ad1-ad0c-bb7509c1d0a1",
   "metadata": {},
   "source": [
    "## Setup"
   ]
  },
  {
   "cell_type": "code",
   "execution_count": 1,
   "id": "c3a1cde5-46a9-4e9e-80ec-e8b9dfa3ad5f",
   "metadata": {},
   "outputs": [],
   "source": [
    "import numpy as np\n",
    "import keras\n",
    "from keras import layers\n",
    "from keras import ops\n",
    "from tqdm import tqdm\n",
    "from matplotlib import pyplot as plt\n",
    "\n",
    "plt.style.use(\"ggplot\")"
   ]
  },
  {
   "cell_type": "markdown",
   "id": "d99a65d3-a9a6-4004-998a-18ed454a9d12",
   "metadata": {},
   "source": [
    "## Create dataset\n",
    "### Configuration parameters"
   ]
  },
  {
   "cell_type": "code",
   "execution_count": 3,
   "id": "2976fed6-6790-496f-a8bc-9c416a233118",
   "metadata": {},
   "outputs": [],
   "source": [
    "POSITIVE_CLASS = 1\n",
    "BAG_COUNT = 1000\n",
    "VAL_BAG_COUNT = 300\n",
    "BAG_SIZE = 3\n",
    "PLOT_SIZE = 3\n",
    "ENSEMBLE_AVG_COUNT = 1"
   ]
  },
  {
   "cell_type": "markdown",
   "id": "669dd8aa-79f6-49c2-8646-e1d149434643",
   "metadata": {},
   "source": [
    "### Prepare bags"
   ]
  },
  {
   "cell_type": "code",
   "execution_count": 24,
   "id": "37c3d391-1025-4852-9a95-90077747e3e3",
   "metadata": {},
   "outputs": [
    {
     "name": "stdout",
     "output_type": "stream",
     "text": [
      "Positive bags: 284\n",
      "Negative bags: 716\n",
      "Positive bags: 93\n",
      "Negative bags: 207\n"
     ]
    }
   ],
   "source": [
    "def create_bags(input_data, input_labels, positive_class, bag_count, instance_count):\n",
    "    # Set up bags.\n",
    "    bags = []\n",
    "    bag_labels = []\n",
    "\n",
    "    # Normalize input data.\n",
    "    input_data = np.divide(input_data, 255.0)\n",
    "\n",
    "    # Count positive samples\n",
    "    count = 0\n",
    "\n",
    "    for _ in range(bag_count):\n",
    "        # Pick a fixed size random subset of samples.\n",
    "        index = np.random.choice(input_data.shape[0], instance_count, replace=False)\n",
    "        instance_data = input_data[index]\n",
    "        instance_labels = input_labels[index]\n",
    "\n",
    "        # By default, all bags are labeled as 0.\n",
    "        bag_label = 0\n",
    "\n",
    "        # Check if there is at least a positive class in the bag.\n",
    "        if positive_class in instance_labels:\n",
    "            # Positive bag will be labeled as 1.\n",
    "            bag_label = 1\n",
    "            count += 1\n",
    "\n",
    "        bags.append(instance_data)\n",
    "        bag_labels.append(np.array([bag_label]))\n",
    "    print(f\"Positive bags: {count}\")\n",
    "    print(f\"Negative bags: {bag_count - count}\")\n",
    "\n",
    "    return (list(np.swapaxes(bags, 0, 1)), np.array(bag_labels))\n",
    "\n",
    "(x_train, y_train), (x_val, y_val) = keras.datasets.mnist.load_data()\n",
    "\n",
    "train_data, train_labels = create_bags(\n",
    "    x_train, y_train, POSITIVE_CLASS, BAG_COUNT, BAG_SIZE\n",
    ")\n",
    "\n",
    "val_data, val_labels = create_bags(\n",
    "    x_val, y_val, POSITIVE_CLASS, VAL_BAG_COUNT, BAG_SIZE\n",
    ")"
   ]
  },
  {
   "cell_type": "markdown",
   "id": "6acd0c88-af8a-4c7f-a900-a7975a3a6f77",
   "metadata": {},
   "source": [
    "## Create the model"
   ]
  },
  {
   "cell_type": "code",
   "execution_count": null,
   "id": "1f7d21d8-d9f2-4874-94b9-8f09fad94d43",
   "metadata": {},
   "outputs": [],
   "source": []
  }
 ],
 "metadata": {
  "kernelspec": {
   "display_name": "Python 3 (ipykernel)",
   "language": "python",
   "name": "python3"
  },
  "language_info": {
   "codemirror_mode": {
    "name": "ipython",
    "version": 3
   },
   "file_extension": ".py",
   "mimetype": "text/x-python",
   "name": "python",
   "nbconvert_exporter": "python",
   "pygments_lexer": "ipython3",
   "version": "3.12.4"
  }
 },
 "nbformat": 4,
 "nbformat_minor": 5
}
